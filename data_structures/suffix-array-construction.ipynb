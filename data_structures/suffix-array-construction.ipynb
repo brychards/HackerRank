{
 "cells": [
  {
   "cell_type": "code",
   "execution_count": 4,
   "metadata": {},
   "outputs": [],
   "source": [
    "S = \"banana\"\n",
    "S = S + \"$\""
   ]
  },
  {
   "cell_type": "code",
   "execution_count": 23,
   "metadata": {},
   "outputs": [],
   "source": [
    "# Step 1: Comput N_1[i].\n",
    "\n",
    "import collections\n",
    "\n",
    "def compute_n1(S):\n",
    "    letter_count = collections.defaultdict(int)\n",
    "    sorted_letters = sorted(set([letter for letter in S]))\n",
    "\n",
    "    for letter in S:\n",
    "        letter_count[letter] += 1\n",
    "\n",
    "    letters_before = dict()\n",
    "    running_total = 0\n",
    "    for l in sorted_letters:\n",
    "        letters_before[l] = running_total\n",
    "        running_total += letter_count[l]\n",
    "\n",
    "    n = len(S)\n",
    "    N_1 = [0 for i in range(n)]\n",
    "    for i in range(n):\n",
    "        l = S[i]\n",
    "        N_1[i] = letters_before[l]\n",
    "    \n",
    "    return N_1\n",
    "\n",
    "\n",
    "\n"
   ]
  },
  {
   "cell_type": "code",
   "execution_count": 16,
   "metadata": {},
   "outputs": [],
   "source": [
    "# Implement ternary quicksort. Will be used in Step 2 below.\n",
    "import random\n",
    "\n",
    "def ternary_quicksort(A):    \n",
    "    n = len(A)\n",
    "    if n <= 4:\n",
    "        return sorted(A)\n",
    "    \n",
    "    i = random.randint(0, n - 1)\n",
    "    split_element = A[i]\n",
    "    A_less = []\n",
    "    A_eq = []\n",
    "    A_greater = []\n",
    "    for a in A:\n",
    "        if a < split_element:\n",
    "            A_less.append(a)\n",
    "        elif a == split_element:\n",
    "            A_eq.append(a)\n",
    "        else:\n",
    "            A_greater.append(a)\n",
    "    A_sorted = ternary_quicksort(A_less) + A_eq + ternary_quicksort(A_greater)\n",
    "    return A_sorted\n",
    "    "
   ]
  },
  {
   "cell_type": "code",
   "execution_count": null,
   "metadata": {},
   "outputs": [],
   "source": [
    "ternary_quicksort([9, 2, 15, 4, 3, 2, 2, 3, 2, 3, 12, 11, 5, 1, 5, 5, 7, 8, 9, 6, 10, 14, 13, 3, 9, 9, 9, 4])"
   ]
  },
  {
   "cell_type": "code",
   "execution_count": 21,
   "metadata": {},
   "outputs": [],
   "source": [
    "# Step 2: From N_l, compute N_2l.\n",
    "\n",
    "# These will be our parameters when we make this a function.\n",
    "\n",
    "\n",
    "\n",
    "def compute_n2l(N_l, l):\n",
    "    n = len(N_l)\n",
    "    def N_i_plus_l(i, l):\n",
    "        if i + l >= n:\n",
    "            return n\n",
    "        else:\n",
    "            return N_l[i + l]\n",
    "\n",
    "    N_l_pairs = []\n",
    "    index_to_pair = dict()\n",
    "    for i in range(n):\n",
    "        pair = (N_l[i], N_i_plus_l(i, l))\n",
    "        index_to_pair[i] = pair\n",
    "        N_l_pairs.append(pair)\n",
    "\n",
    "    N_l_pairs_sorted = ternary_quicksort(N_l_pairs)\n",
    "\n",
    "\n",
    "    pairs_before = dict()\n",
    "    prev = None\n",
    "    count = 0\n",
    "    for i in range(n):\n",
    "        pair = N_l_pairs_sorted[i]\n",
    "        if pair == prev:\n",
    "            count += 1\n",
    "        else:\n",
    "            pairs_before[pair] = count\n",
    "            count += 1\n",
    "            prev = pair\n",
    "\n",
    "    N_2l = [0 for i in range(n)]\n",
    "    for i in range(n):\n",
    "        pair = index_to_pair[i]\n",
    "        N_2l[i] = pairs_before[pair]\n",
    "    return N_2l\n",
    "\n",
    "\n",
    "\n",
    "\n",
    "\n",
    "\n",
    "\n",
    "\n"
   ]
  },
  {
   "attachments": {},
   "cell_type": "markdown",
   "metadata": {},
   "source": [
    "N_2l"
   ]
  },
  {
   "cell_type": "code",
   "execution_count": 26,
   "metadata": {},
   "outputs": [],
   "source": [
    "import math\n",
    "\n",
    "# We assume that S has already been padded with '$' at the end.\n",
    "def compute_inverse_suffix_array(S):\n",
    "    n = len(S)\n",
    "    l = 1\n",
    "    N_l = compute_n1(S)\n",
    "    k = math.ceil(math.log2(n))\n",
    "    l_max = 2 ** k\n",
    "    while l <= l_max:\n",
    "        N_2l = compute_n2l(N_l, l)\n",
    "        l = l * 2\n",
    "        N_l = N_2l\n",
    "    return N_l\n",
    "\n",
    "        \n",
    "\n",
    "    "
   ]
  },
  {
   "cell_type": "code",
   "execution_count": 52,
   "metadata": {},
   "outputs": [],
   "source": [
    "# We assume '$' has been appended to the end of S\n",
    "def compute_suffix_array(S):\n",
    "    n = len(S)\n",
    "    SA_inverse = compute_inverse_suffix_array(S)\n",
    "    SA = [-1] * n\n",
    "    for i in range(n):\n",
    "        SA[SA_inverse[i]] = i\n",
    "    return SA, SA_inverse\n",
    "\n"
   ]
  },
  {
   "cell_type": "code",
   "execution_count": 28,
   "metadata": {},
   "outputs": [
    {
     "name": "stdout",
     "output_type": "stream",
     "text": [
      "[4, 3, 6, 2, 5, 1, 0]\n",
      "[6, 5, 3, 1, 0, 4, 2]\n"
     ]
    }
   ],
   "source": [
    "S = 'banana$'\n",
    "SA_inverse = compute_inverse_suffix_array(S)\n",
    "print(SA_inverse)\n",
    "\n",
    "n = len(S)\n",
    "SA = [-1] * n\n",
    "for i in range(n):\n",
    "    SA[SA_inverse[i]] = i\n",
    "\n",
    "print(SA)\n"
   ]
  },
  {
   "cell_type": "code",
   "execution_count": 45,
   "metadata": {},
   "outputs": [
    {
     "name": "stdout",
     "output_type": "stream",
     "text": [
      "n:  16\n",
      "[15, 1, 3, 7, 5, 0, 9, 12, 13, 2, 4, 8, 6, 11, 14, 10]\n",
      "[5, 1, 9, 2, 10, 4, 12, 3, 11, 6, 15, 13, 7, 8, 14, 0]\n"
     ]
    }
   ],
   "source": [
    "S = 'bananasareyummy$'\n",
    "SA, SA_inverse = compute_suffix_array(S)\n",
    "n = len(S) + 1\n",
    "print(\"n: \", n)\n",
    "print(SA)\n",
    "print(SA_inverse)"
   ]
  },
  {
   "cell_type": "code",
   "execution_count": 53,
   "metadata": {},
   "outputs": [
    {
     "name": "stdout",
     "output_type": "stream",
     "text": [
      "SA:     [7, 1, 3, 5, 0, 2, 4, 6]\n",
      "SA -1:  [4, 1, 5, 2, 6, 3, 7, 0]\n"
     ]
    }
   ],
   "source": [
    "S = 'bananas$'\n",
    "n = len(S)\n",
    "SA, SA_inverse = compute_suffix_array(S)\n",
    "print(\"SA:    \", SA)\n",
    "print(\"SA -1: \", SA_inverse)"
   ]
  },
  {
   "cell_type": "code",
   "execution_count": 59,
   "metadata": {},
   "outputs": [],
   "source": [
    "\n",
    "def compute_longest_common_prefixes(SA, SA_inverse, T):\n",
    "    n = len(T)\n",
    "    # LCP[i] = longest common prefix between SA[i] and SA[i - 1]\n",
    "    LCP = [-1] * n\n",
    "\n",
    "    # We know SA_inverse[n - 1] = 0 (the last character is the special '$')\n",
    "    # We don't want to compute LCP[0], so we go to i = n - 2\n",
    "    l = 0\n",
    "    for i in range(n - 1):\n",
    "        k = SA_inverse[i]  # What order is the prefix Ti\n",
    "        j = SA[k - 1]      # Prefix Tj comes immediately before Ti in lexicographic order\n",
    "        print(\"k \", k, \"j \", j)\n",
    "        while T[i + l] == T[j + l]:\n",
    "            l = l + 1\n",
    "        LCP[k] = l\n",
    "        if l > 0:\n",
    "            l = l - 1\n",
    "    return LCP\n",
    "\n"
   ]
  }
 ],
 "metadata": {
  "kernelspec": {
   "display_name": "Python 3",
   "language": "python",
   "name": "python3"
  },
  "language_info": {
   "codemirror_mode": {
    "name": "ipython",
    "version": 3
   },
   "file_extension": ".py",
   "mimetype": "text/x-python",
   "name": "python",
   "nbconvert_exporter": "python",
   "pygments_lexer": "ipython3",
   "version": "3.8.2"
  },
  "orig_nbformat": 4
 },
 "nbformat": 4,
 "nbformat_minor": 2
}
