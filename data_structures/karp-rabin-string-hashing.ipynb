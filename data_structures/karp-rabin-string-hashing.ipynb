{
 "cells": [
  {
   "cell_type": "code",
   "execution_count": 1,
   "metadata": {},
   "outputs": [],
   "source": [
    "import random\n",
    "import string\n",
    "p = 10000004873\n",
    "\n",
    "def pick_random(prime):\n",
    "    k = random.randint(2, prime - 1)\n",
    "    return k \n",
    "\n",
    "def compute_powers_mod_p(k, p, n):\n",
    "    powers = [1 for i in range(n)]\n",
    "    for i in range(1, n):\n",
    "        powers[i] = (powers[i - 1] * k) % p\n",
    "    return powers\n",
    "\n",
    "def replace_letters_with_numbers(s):\n",
    "    letters = list(string.ascii_lowercase)\n",
    "    letter_to_number = {letters[i] : i + 1 for i in range(len(letters))}\n",
    "    replaced = [letter_to_number[c] for c in s]\n",
    "    return replaced\n",
    "\n",
    "\n",
    "\n",
    "def compute_hash(i, j, p, prefix_hashes, powers_mod_p):\n",
    "    if i == 0:\n",
    "        return prefix_hashes[j] \n",
    "    return (prefix_hashes[j] - powers_mod_p[j - i + 1] * prefix_hashes[i - 1]) % p\n",
    "\n",
    "\n",
    "\n",
    "        \n",
    "\n"
   ]
  },
  {
   "cell_type": "code",
   "execution_count": 77,
   "metadata": {},
   "outputs": [
    {
     "name": "stdout",
     "output_type": "stream",
     "text": [
      "9937073939\n"
     ]
    }
   ],
   "source": [
    "k = pick_random(p)\n",
    "print(k)\n",
    "s = \"iwanttopartyintheusaaaaaaiwanttopartyyeahyeahyeah\"\n",
    "n = len(s)\n",
    "powers = compute_powers_mod_p(k, p, n)\n",
    "A = replace_letters_with_numbers(s)\n"
   ]
  },
  {
   "cell_type": "code",
   "execution_count": 107,
   "metadata": {},
   "outputs": [],
   "source": [
    "from functools import cmp_to_key\n",
    "import string\n",
    "\n",
    "\n",
    "class StringHasher:\n",
    "    def __init__(self, s, p, k, powers_mod_p):\n",
    "        self.s = s\n",
    "        self.p = p\n",
    "        self.k = k\n",
    "        self.powers_mod_p = powers_mod_p\n",
    "        self.A = self.replace_letters_with_numbers(self.s)\n",
    "        self.prefix_hashes = self.compute_prefix_hashes(self.A, self.p, self.k)\n",
    "\n",
    "    \n",
    "    def replace_letters_with_numbers(self, s):\n",
    "        letters = list(string.ascii_lowercase)\n",
    "        letter_to_number = {letters[i] : i + 1 for i in range(len(letters))}\n",
    "        replaced = [letter_to_number[c] for c in s]\n",
    "        return replaced\n",
    "    \n",
    "    def compute_prefix_hashes(self, A, p, k):\n",
    "        n = len(A)\n",
    "        prefix_hashes = [0 for i in range(n)]\n",
    "        prefix_hashes[0] = A[0]\n",
    "        for i in range(1, n):\n",
    "            prefix_hashes[i] = (self.k * prefix_hashes[i - 1] + A[i]) % self.p\n",
    "        return prefix_hashes\n",
    "\n",
    "    def compute_hash(self, i, j):\n",
    "        if i == 0:\n",
    "            return self.prefix_hashes[j] \n",
    "        return (self.prefix_hashes[j] - self.powers_mod_p[j - i + 1] * self.prefix_hashes[i - 1]) % self.p\n",
    "    \n",
    "    def indices_to_substring(self, i, j):\n",
    "        return self.s[i : j + 1]\n",
    "    \n",
    "    def compare_two_substrings(self, indices1, indices2):\n",
    "        return compare_two_substrings((indices1, self), (indices2, self))\n",
    "    \n",
    "    def hash_all_substrings(self):\n",
    "        self.hash_to_indices = dict()\n",
    "        self.unique_string_indices = []\n",
    "        n = len(self.A)\n",
    "        for i in range(n):\n",
    "            for j in range(i, n):\n",
    "                hash_value = self.compute_hash(i, j)\n",
    "                if hash_value not in self.hash_to_indices:\n",
    "                    self.hash_to_indices[hash_value] = ((i, j), self)\n",
    "        \n",
    "    \n",
    "\n",
    "# Note: This function only works if the hashers in each argument were giving the same values of p and k.\n",
    "def compare_two_substrings(indices_and_hasher1, indices_and_hasher2):\n",
    "    (i1, j1), hasher1 = indices_and_hasher1\n",
    "    (i2, j2), hasher2 = indices_and_hasher2\n",
    "    # print('Comparing: ', hasher1.s[i1:j1 + 1], hasher2.s[i2:j2 + 1])\n",
    "\n",
    "    diff1, diff2 = j1 - i1, j2 - i2\n",
    "    min_diff = min(diff1, diff2)\n",
    "\n",
    "    # So now, j2 - i2 >= j1 - i1.\n",
    "    # We're going to binary search on the lengths of the strings to hash.\n",
    "    # We'll find the shortest length for which the hashes are not equal, say l.\n",
    "    # Then whichever is larger, A[i1 + l] or A[i2 + l], is from the \"larger\" string.\n",
    "    max_range = min_diff\n",
    "    min_range = 0\n",
    "    curr_range = int((max_range + min_range) / 2)\n",
    "\n",
    "    while True:\n",
    "        # print(\"min_range, max_range, curr_range: \", min_range, max_range, curr_range)\n",
    "        if max_range == min_range:\n",
    "            if hasher1.A[i1 + curr_range] < hasher2.A[i2 + curr_range]:\n",
    "                return -1\n",
    "            elif hasher1.A[i1 + curr_range] > hasher2.A[i2 + curr_range]:\n",
    "                return 1\n",
    "            else:\n",
    "                # In this case, the strings' hashes are equal for the stretch that we can compare them.\n",
    "                # Whichever string is longer will be the lexicographically larger string.\n",
    "                # E.e. we're comparing 'late' to 'later'\n",
    "                if diff1 < diff2:\n",
    "                    return -1\n",
    "                elif diff1 > diff2:\n",
    "                    return 1\n",
    "                else:\n",
    "                    return 0\n",
    "\n",
    "        \n",
    "        if hasher1.compute_hash(i1, i1 + curr_range) == hasher2.compute_hash(i2, i2 + curr_range):\n",
    "            min_range = curr_range + 1\n",
    "        else:\n",
    "            max_range = curr_range\n",
    "        curr_range = int((min_range + max_range) / 2)"
   ]
  },
  {
   "cell_type": "code",
   "execution_count": null,
   "metadata": {},
   "outputs": [],
   "source": []
  },
  {
   "cell_type": "code",
   "execution_count": 88,
   "metadata": {},
   "outputs": [],
   "source": [
    "def sort_all_unique_substrings(hashers):\n",
    "    all_substring_indices = []\n",
    "    unique_hashes = set()\n",
    "    for hasher in hashers:\n",
    "        hash_to_indices = hasher.hash_to_indices \n",
    "        indices = [hash_to_indices[hash] for hash in hash_to_indices if hash not in unique_hashes]\n",
    "        all_substring_indices.extend(indices)\n",
    "        unique_hashes.update([hash for hash in hash_to_indices])\n",
    "    all_substring_indices.sort(key=cmp_to_key(compare_two_substrings))\n",
    "    return all_substring_indices\n",
    "\n",
    "\n",
    "\n",
    "def findStrings(w, queries):\n",
    "    p = 10000004873\n",
    "    k = pick_random(p)\n",
    "    max_length = max(map(len, w))\n",
    "    powers_mod_p = compute_powers_mod_p(k, p, max_length)\n",
    "    hashers = []\n",
    "    for word in w:\n",
    "        hasher = StringHasher(word, p, k, powers_mod_p)\n",
    "        hasher.hash_all_substrings()\n",
    "        hashers.append(hasher)\n",
    "    all_substrings_sorted = sort_all_unique_substrings(hashers)\n",
    "    num_substrings = len(all_substrings_sorted)\n",
    "    results = []\n",
    "    for q in queries:\n",
    "        if q > num_substrings:\n",
    "            results.append('INVALID')\n",
    "        else:\n",
    "            ((i, j), hasher) = all_substrings_sorted[q - 1]\n",
    "            results.append(hasher.indices_to_substring(i, j))\n",
    "    return results\n",
    "\n"
   ]
  },
  {
   "cell_type": "code",
   "execution_count": 103,
   "metadata": {},
   "outputs": [],
   "source": [
    "def substring_indices_to_substrings(substring_indices):\n",
    "    substrings = []\n",
    "    for i in range(len(substring_indices)):\n",
    "        (i, j), hasher = substring_indices[i]\n",
    "        substrings.append(hasher.indices_to_substring(i, j))\n",
    "    return substrings\n",
    "\n",
    "def testCode(w, queries = None):\n",
    "    p = 10000004873\n",
    "    k = pick_random(p)\n",
    "    max_length = max(map(len, w))\n",
    "    powers_mod_p = compute_powers_mod_p(k, p, max_length)\n",
    "    hashers = []\n",
    "    for word in w:\n",
    "        hasher = StringHasher(word, p, k, powers_mod_p)\n",
    "        hasher.hash_all_substrings()\n",
    "        hashers.append(hasher)\n",
    "    all_substrings_sorted = sort_all_unique_substrings(hashers)\n",
    "    substrings = substring_indices_to_substrings(all_substrings_sorted)\n",
    "    for s in substrings:\n",
    "        print(s)\n"
   ]
  },
  {
   "cell_type": "code",
   "execution_count": 101,
   "metadata": {},
   "outputs": [
    {
     "name": "stdout",
     "output_type": "stream",
     "text": [
      "Comparing:  aqy ayq\n",
      "min_range, max_range, curr_range:  0 2 1\n",
      "Hashes unequal\n",
      "min_range, max_range, curr_range:  0 1 0\n",
      "Hashes equal\n",
      "min_range, max_range, curr_range:  1 1 1\n"
     ]
    },
    {
     "data": {
      "text/plain": [
       "-1"
      ]
     },
     "execution_count": 101,
     "metadata": {},
     "output_type": "execute_result"
    }
   ],
   "source": [
    "w1 = 'wptmevbtoaqywyzsnsnqjlztyusvieakuyrczfzguyztbpinykjzjwwxyuls'\n",
    "w2 = 'cayqhteghiunxljkkozrloedzcrugskwamhkpvgmafbhdrmisubnejmmfzzz'\n",
    "w = [w1, w2]\n",
    "\n",
    "p = 10000004873\n",
    "k = pick_random(p)\n",
    "max_length = max(map(len, w))\n",
    "powers_mod_p = compute_powers_mod_p(k, p, max_length)\n",
    "\n",
    "\n",
    "\n",
    "hasher1 = StringHasher(w1, p, k, powers_mod_p)\n",
    "hasher2 = StringHasher(w2, p, k, powers_mod_p)\n",
    "compare_two_substrings(((9, 11), hasher1), ((1,3), hasher2))\n"
   ]
  },
  {
   "cell_type": "code",
   "execution_count": 67,
   "metadata": {},
   "outputs": [
    {
     "name": "stdout",
     "output_type": "stream",
     "text": [
      "['aa', 'aab', 'c', 'xyff', 'yffg']\n"
     ]
    }
   ],
   "source": [
    "words = ['aab', 'aac', 'a', 'xyffgab']\n",
    "queries = [2, 3, 8, 23, 30]\n",
    "\n",
    "results = findStrings(words, queries)\n",
    "print(results)"
   ]
  },
  {
   "cell_type": "code",
   "execution_count": 89,
   "metadata": {},
   "outputs": [],
   "source": [
    "def substring_indices_to_substrings(indices):\n",
    "    substrings = []\n",
    "    for i in range(len(indices)):\n",
    "        ((i, j), hasher) = indices[i]\n",
    "        substrings.append(hasher.indices_to_substring(i, j))\n",
    "    return substrings\n",
    "\n",
    "def parse_input(filepath):\n",
    "    with open(filepath, 'r') as f:\n",
    "        n = int(f.readline())\n",
    "        words = []\n",
    "        while len(words) < n:\n",
    "            words.append(f.readline().replace('\\n', ''))\n",
    "        q = int(f.readline())\n",
    "        queries = []\n",
    "        while len(queries) < q:\n",
    "            queries.append(int(f.readline()))\n",
    "    return words, queries\n",
    "\n",
    "            \n"
   ]
  },
  {
   "cell_type": "code",
   "execution_count": 109,
   "metadata": {},
   "outputs": [
    {
     "name": "stdout",
     "output_type": "stream",
     "text": [
      "adeuswpuxioizkdmxliepghmtxktqtnkicfxjoomxjqrecjwhinbgqxdictufugeqtlfwzfoodpdhjpmjmtfwcakwtjxniwmvdnequgckrrojkwqaxqzuzbhslkatipycnquhlwiqiptgyvsifkwbuozpacwanshqhplepdkdllprfwfwdgeztfwwxwfqtroocwgokgcnxdsjvknaaexhiaadgjbinccnhjgniasgtkzwzifikxcwyryghosli\n",
      "akguvgqvvfndawlihsawqjpezumwvygzvfeplxeinperrbiewkhfpjysvlybagygdjraetzdpzrmqllvyfjetpismcfhapodbdivxcdyqskecadwakteqkklbxiyiqjipp\n",
      "adeuswpuxioizkdmxliepghmtxktqtnkicfxjoomxjqrecjwhinbgqxdictufugeqtlfwzfoodpdhjpmjmtfwcakwtjxniwmvdnequgckrrojkwqaxqzuzbhslkatipycnquhlwiqiptgyvsifkwbuozpacwanshqhplepdkdllprfwfwdgeztfwwxwfqtroocwgokgcnxdsjvknaaexhiaadgjbinccnhjgniasgtkzwzifikxcwyryghosliqrvfjfxmxvlkxmqurehonsnpknauuhrjidvmweshexhyjkcnmibluewvfdnmjntagzkbxzlbtetqawumnja\n",
      "afmllwsdrzcvqsfknxvnippnyrjigpwpgmymyvomkmxoulquqciwsezdbokzybbwkxkxhsegeuxunspblheztbussfkksiblcorhuovjhuafukwitzvxodqwuzbeambzfcjknooctfhagkqkeavvooorcppkbzgkyhmrutbclcrksphmdvkypvrumuzzkbtioankndpodsytgemehfdymbaytklkoowzoqltjxvctgtkqttargucrzygu\n",
      "alygmdydgtglfnbkmtnwsveqjmrxefmxshrrsorvhgxzrapitnklswppnjmzcqkedoldfzogushkmqpybpuc\n",
      "ajdvmfcubvspnesulcunktduxiovijgfriojefrllssbggerwceenvryvdndtimjtxddcprtzheuztmtqaiyjlfvwohsgzpprjw\n",
      "aadifiqgojwwdljpbzltzcqwtnaocnchbcjmpeaaogdampmpbarwpuqxbcidmwiygaqmeptawycoascpayvewohtxlfwiqocbuytwyhdluyifpjgyiigutheuddboqkavnjadzyhqr\n",
      "aadgjbinccnhjgniasgtkzwzifikxcwyry\n",
      "aafyidkmqlwv\n",
      "agaabmsgtthgqtepymrrtfpddikxrxvcbfztexdpmgckoiciyzzxelrvkifphlytnbgtsofidxvafyzpznzvbgwzgvghpywurgzvjkwwolsuimsjsjjktqikkqnlijozeewnzrokidecjbksxziussrmtczdhkjaprhpriovuqofybnefpmafqylrrwzlqrjwtbmovxqjkfrkknbxhjqsnk\n",
      "adzltetimzrvbneoytrbwywkocmyosvtektmg\n",
      "aeepgpbgvpaypynekikgosbttdhkfpvccgxlzwgyewcmvabqbfdemwxevcknxgdjwwnbpamgsjcyguohehkruhbcquhrkeonvcpsqwkbacchtesrupvygdhorodpvxmmivzfcfyvtpqgytxlkzuemshdwpsbiyyncnpotjpscectvxflnndkskauqsmhufxkxxpughrnftdcnnkfjhjqsaubtgdozhkel\n",
      "amuaewitncmoukzzyojkhjnbpscoty\n",
      "agaabmsgtthgqtepymrrtfpddikxrxvcbfztexdpm\n",
      "akwtjxniwmvdnequgckrrojkwqaxqzuzbhslkatipycnquhlwiqiptgyvsifkwbuozpacwanshqhplepdkdllprfwfwdgeztfwwxwfqtroocwgokgcnxdsjvknaaexhiaadgjbinccnhjgniasgtkzwzifikxcwyryghosliqrvfjfxmxvlkxm\n",
      "aocnchbcjmpeaaogdampmpbarwpuqxbcidmwiygaqmeptawycoascpayvewohtxlfwiqocbuytw\n",
      "akwtjxniwmvdnequgckrrojkwqaxqzuzbhslkatipycnquhlwiqiptgyvsifkwbuozpacwa\n",
      "adwakteqkklbxiyiqjippbrxbmeugpvyrhfkjwnazkaxlcyrzkqogbxdbjxpyqysprcusfcbdiczebualkorwlmplwnrbihbovgwwenyamwqjhbxhofenpwqavqggkzeoazftfscpuurhitkyfetiynlzwqmtzqzbhsvasabwzegepfzedrkjnyziuakkxercrdrokrtjcyekgfhwmtjjmmkpvewewqysjbplypkfztzgisdbkvlptrfcfylzwaeqbxhqixfagapuhuqqmzjcbipzpiffwo\n",
      "andazttkvgketgegzjeiilzviixkpamuigqqhsdcqoozaujtnyfryumssearxgzbrlsszcsejoqkiumfxugystyjadzltet\n",
      "akkxercrdrokrtjcyekgfhwmtjjmmkpvewew\n",
      "aawhbwzewrfnbbqhzexnjjetgprxnihdayyeegbknueszwtsqhxovicgzriogancljkmfzxavwxdglgeiuqnwhkvpesmtgdlggtvacxvmwjbklzqejhmkduxrttvhakxvwwbedybqqmodhsfpinztxbitznrfthezvfggzrvzyrllmkvoeaxuohdgyhelhfvkynlxaiozjgcazyelemgjmcotqazkdymjhiwmndiycceyywmbshtkxgdcxvlkxvknzqulxmpbkmgyckwovwiwmkbaaljlgamnmfnyhhsjsoijfbaqxxhpbghcxkvg\n",
      "afozxxqueeyjifdvbnuitungksrstqmzplgqoniaahusicquanhghcjyiekqtoantrnhfxogkmrnxavlvmwqffkhlhstlztugdcjssrjybtalckavlhnesecwiuivupsbwblomznxndozxpqwmsyxchvvbydmetkxkgawafwwuobfhvqaobkhkucvkbjfxkxntxgwapoqs\n",
      "adfdcmvrwnryqgmkktcoqvxovtfskstcmhgfffvppqwmc\n",
      "akcjwumfcsqkrpjjpdvfleqqyxevoufnfdqjmxkmtsbqugebihxrsovggmisbd\n",
      "ancljkmfzxavwxdglgeiuqnwhkvpesmtgdlggtvacxvmwjbklzqejhmkduxrttvhakxvwwbedybqqmodhsfpinztxbitznrfthezvfggzrvzyrllmkvoeaxuohdgyhelhfvkynlxaiozjgcazyelemgjmcotqazkdymjhiwmndiycceyywmbshtkxgdcxvlkxvknzqulxmpbkmgyckwovwiwmkbaaljlgamnmfnyhhsjsoijfbaqxxhpbghcxkvgpwnwokpaxtxosxpbrsydoqdzmfyiwswiojmdbfzdsmoecbsqjkoonvgpxlqpeksnvhu\n",
      "alnkvoyqyszgmqhltsehyexgvrhxrfbuevrvgrixieiuhduzij\n",
      "acchtesrupvygdhorodpvxmmivzfcfyvtpqgytxlkzuemshdwpsbiyyncnpotjpscectvxflnndkskauqsmhufxkxxpughrnftdcnnkfjhjqsaubtgdozhkelfzltvevlevxrdviolosucxhdukmyedctoxyfoall\n",
      "acwanshqhplepdkdllprfwfwdgeztfwwxwfqtroocwgokgcnxdsjvknaaexhiaadgjbinccnhjgniasgtkzwzifikxcwyryghosliq\n",
      "acmghsuvdqtqswdllqvozmdalygmdydgtglfnbkmtnwsveqjmrxefmxshrrsorvhgxzrapitnklswppnjmzcqkedoldfzogushkmqpybpucawgdwoukasjyrduiuwdugidlkivcygxuuogvlsfiworsoiwnjekkoizpkkyqzzbokjvhgpsswqhzcztijxaytimncffcpttbnjsl\n",
      "ancljkmfzxavwxdglgeiuqnwhkvpesmtgdlggtvacxvmwjbklzqejhmkduxrttvhakxvwwbedybqqmodhsfpinztxbitznrfthezvfggzrvzyrllmkvoeaxuohdgyhelhfvkynlxaiozjgcazyelemgjmcotqazkdymjhiwmndiycceyywmbshtkxgdcxvlkxvknzqulxmpbkmgyckwovwiwmkbaaljlgamnmfnyhhsjsoijfbaqxxhpb\n",
      "INVALID\n",
      "antrnhfxogkmrnxavlvmwqffkhlhstlztugdcjssrjybtalckavlhnesecwiuivupsbwblomznxndozxpqwmsyxchvvbydmetkxkgawafwwuobfhvqaobkhkucvkbjfxkxntxgwap\n",
      "aooctyhnunxrlpkvnrlguucxoisaloxgidkiixoghornmfegskhupzruqsohthghbrzikbswsipvlfjmzgovzl\n",
      "andjcbglzgdtvzumgczuekjotevdjfkxmtxotdgizrrsuyaosxvtxztebvzyasolqegpeztjeyhucwgeuzqfemhfjdxttjgczrtawcdsrxndrjxukhpjxoamlglaqifzsvgxtctgekqdvpptzpwqdogeetbxmylypogscxwzywvpvlwspneoqmry\n",
      "abizykleaitergstbxbmjyotxotthk\n",
      "INVALID\n",
      "anwvgqmkxljbxckasbmdmbqkvurlplbbayudbppbkjkdg\n",
      "andjcbglzgdtvzumgczuekjotevdjfkxmtxotdgizrrsuyaosxvtxztebvzyasolqegpeztjeyhucwgeuzqfemhfjdxttjgczrtawcdsrxndrjxukhpjxoamlglaqifzsvgxt\n",
      "INVALID\n",
      "anshqhplepdkdllprfwfwdgeztfwwxwfqtroocwgokgcnxdsjvknaaexhiaadgjbinccnhjgniasgtkzwzifikxcwyryghosliqrvfjfxmxvlkxmqurehonsnpknauuhrjidvmweshexhyjkcnmibluewvfdnmjntagzkbxzlbtetqawumnjafeqmyhcvzkyu\n",
      "INVALID\n",
      "akqgswtkjnxrbvyvmjnaeqkbemqufvagaabmsgtthgqtepymrrtfpddikxrxvcbfztexdpmgckoiciyzzxelrvkifphlytnbgtsofidxvafyzpznzvbgwzgvghpywurgzvjkwwolsuimsjsjjktqikkqnlijozeewnzrokidecjbksxziussrmtczdhkjaprhpriovuqofybnefpmafqyl\n",
      "akwtjxniwmvdnequgckrrojkwqaxqzuzbhslkatipycnquhlwiqiptgyvsifkwbuozpacwanshqhplepdkdllprfwfwdgeztfwwxwfqtroocwgokgcnxdsjvknaaexhiaadgjbinccnhjgniasgtkzwzifikxcwyryghosliqrvfjfxmxvlkxmqurehonsnpkna\n",
      "aoicbzhoddx\n",
      "anlfibyppisoevmaxevvpqhmoipxtniddibtnqajlkuludveoqnntupfnaokuyskntsfxwgejrxwkhsawlgzkkiirokegrxu\n",
      "agpqrfnfsybwcsxoeegtnevnmgktozaqyjcfpdfsaadifiqgojwwdljpbzltzcqwtnao\n",
      "aoicbzhoddxpgnncibqnymubflvbyyluwvborz\n",
      "acreqpgpuwptalnkvoyqyszgmqhltsehyexgvrhxrfbuevrvgrixieiuhduzijveivpuygiiydscshmcalgxyujbcqvddvxjsygrmppjstwvqjylzkdasbksftomyvggzfeettvtbpeykmvjyqjiqlsjenigaifrcdgjwuocfvejpooefzbpxhlyjrngypuzikgihxllhoyysuhkqrivcmitzuzkfkzauwqgdgxxuhpsvvqnhdgpuizbifandazttkvgketgegzjeiilzviixkpamuigqqhsdcqoozaujtnyfryumssear\n",
      "abpobssrpnjgogfhrdvqydczakrpcmrwbyxghojttyajjatcelnavqxidyewnrhxpq\n",
      "INVALID\n",
      "afukwitzvxodqwuzbeambzfcjknooctfhagkqkeavvooorcppkbzgkyhmrutbclcrksphmdvkypvrumuzzkbtioankndpodsytgemehfdymbaytklkoowzoqltjxvctgtkqttargucrzyguyijrpmgwckhnngekadfdcmvrwnryqgmkktcoqvxovtfskstcmhgfffvppqwmcyyapaagbufiuwdhypdqmvuviinkwmypinqgxdzvzwvfkhcxkbdonycodnzcmpekxblvcuififqknyfltssuiymogezfmmjlonnxhrovpjmzsesfewsrhqmskdmcl\n",
      "aehjcwlhmevqeixxhnavfzrigmssxcjvrxqdhpgrjcwoarhbqiemzfeeicmyjufybkfqsranqfczngtzijhnfojnffrigyurkxurggzrcfhiqjqncpwsbdrlmcethqm\n",
      "acbcdsxorlbwzbrnpoeygqxxtcwulbnvexcjxulkycksufldpjnzvcjgf\n",
      "INVALID\n",
      "acxvmwjbklzqejhmkduxrttvhakxvwwbedybqqmodhsfpinztxbitznrfthezvfggzrvzyrllmkvoeaxuohdgyhelhfvkynlxaiozjgcazyelemgjmcotqazkdymjhiwmndiycceyywmbshtkxgdcxvlkxvknzqulxmpbkmgyckwovwiwmkbaaljlgamnmfnyhhsjsoijfbaqxxhpbghcxkvgpwn\n",
      "agkqkeavvooorcppkbzgkyhmrutbclcrksphmdvkypvrumuzzkbtioankndpodsytgemehfdymbaytklkoowzoqltjxvctgtkqttargucrzyguyijrpmgwckhnngekadfdcmvrwnryqgmkktcoqvxovtfs\n",
      "aiozjgcazyelemgjmcotqazkdymjhiwmndiycceyywmbshtkxgdcxvlkxvknzqulxmpbkmgyckwovwiwmkbaaljlgamnmfnyhhsjsoijfba\n",
      "aadifiqg\n",
      "aifrcdgjwuocfvejpooefzb\n",
      "ajwzmmqabizykleaitergstbxbmj\n",
      "acmghsuvdqtqswdllqvozmdalygmdydgtglfnbkmtnwsveqjmrxefmxshrrsorvhgxzrapitnklswppnj\n",
      "agccaajgwjzjnoqhatnpglruxhvmfvxbsbfzgiacaehjcwlhmevqeixxhnavfzrigmssxcjvrxqdhpgrjcwoarhbqiemzfeeicmyjufybkfqsranqfczngtzijhnfojnffrigyurkxurggzrcfhiqj\n",
      "INVALID\n",
      "akqgswtkjnxrbvyvmjnaeqkbemqufvagaabmsgtthgqtepymrrtfpddikxrxvcbfztexdpmgckoiciyzzxelrvkifphlytnbgtsofidxvafyzpznzvbgwzgvghpywurgzvjkwwolsuimsjsjjktqikkqnlijozeewnzr\n",
      "ahzdzbmxskcgpkacmghsuvdqtqswdllqvozmdalygmdydgtglfnbkmtnwsveqjmrxefmxshrrsorvhgxzrapitnklswppnjmzcqkedoldfzogushkmqpybpucawgdwoukasjyrduiuwdugidlkivcygxuuogvlsfiworsoiwnjekkoizpk\n",
      "aejkuzgqddpnqkhreetwjbmjlewdrlwvvhvmrwtbgddzdlakcjwumfcsqkrpjjpdvfleqqyxevoufnfdqjmxkmtsbqugebihxrsovggmisbdikviapcfiphmjjudpztvgvouprfrvmtvjcglilgihupfcovavzqyypji\n",
      "aabzykwsflnnvgljrzdnznwwpgcg\n",
      "INVALID\n",
      "INVALID\n",
      "ajdolsxxxrerxocspfvhekawnuaaorowslfirqbyhljtexrkxpgdxltaoqgvwnobezjitdfllhkbldghrfrhmvknoycjostzpsxczrgvgccdnpzncmayqzmkhxraafyidkmqlwvuczybufvduhtkibzwmfithwlaxjlprsjuctpwobyebwjbsvjlhpwpjsalblnzhsigproikectugqldhfjzsfzdbbhfuxxzmpopeanwvgqmkxljbxckasbmdmbqkvurlplbbayudbppbkjkdgumvivyxikdvebmvfqxbgyywjxjuysrlvruyxnmcxxlnbwovrfrcktqzpnnqcpnipyihcqjclkwjjz\n",
      "adeuswpuxioizkdmxliepghmtxktqtnkicfxjoomxjqrecjwhinbgqxdictufugeqtlfwz\n",
      "ampyjrivcudlyceobsoaqzxbzqcjfkrrapgvvvzurcssmnflbnwuyfejlstqbrrytwcaqfouutoqefjrelnswaszlwjnajdolsxxxrerxocspfvhekawnuaaorowslfirqbyhljtexrkxpgdxltaoqgvwnobezjitdfllhkbldghrfrhmvknoycjostzpsxczrgvgccdnpzncmayqzmkhxraafyidkmqlwvuczybufvduhtkibzwmfithwlaxjlprsjuctpwobyebwjbsvjlhpwpjsalblnzhsigproikectugqldhfjzsfzdbbhfuxx\n",
      "agbcumdcnowludlhewkhrqlwktuppmrsqjgzjhgtwtlpzbdrjfyhchlfsxplbhkulxjxuovonnxiwznzcfhihymjjatlrdqotsnxpytkudinbksiikcmkesa\n",
      "aiuagbcumdcnowludlhewkhrqlwktuppmrsqjgzjhgtwtlpzbdrjfyhchlfsxplbhkulxjxuovonnxiwznzcfhihymjjatlrdqotsnxpytkudinbksiikcmkesawuheyncuuayostpmrrxvdtfbkxvpvwpbkgazllefohimmagccaajgwjzjnoqhatnpglruxhvmfvxbsbfzgiacaehjcwlhmevqeixxhnavfz\n",
      "alblnzhsigproikectugqldhfjzsfzdbbhfuxxzmpopeanwvgqmkxljbxckasbmdmbqkvurlplbbayudbppbkjkdgu\n",
      "ahdmtvch\n",
      "aeqkbemqufvagaabmsgtthgqtepymrrtfpddikxrxvcbfztexdpmgckoiciyzzxelrvkifphlytnbgtsofidxva\n",
      "aoqgvwnobezjitdfllhkbldghrfrhmvknoycjostzpsxczrgvgccdnpzncmayqzmkhxra\n",
      "aecihehkofkyelzotcmgcjaxppxkjjzwyeohx\n",
      "afukwitzvxodqwuzbeambzfcjknooctfhagkqkeavvooorcppkbzgkyhmrutbclcrksphmdvkypvrumuzzkbtioankndpodsytgemehfdymbaytklkoowzoqltjxvctgtkqttargucrzyguyijrpmgwckhnngekadfdcmvrwnryqgmkktcoqvxovtfskstcmhgfffvppqwmcyyapaagbufiuwdhypdqmvuviinkwmypinqgxdzvzwvfkhcxkbdonycodnzcmpekxblvcuififqknyfltssuiymogezfmmjlonnxhrovpjmzsesfewsrhqmskdmclockxbkrvekbkaufflm\n",
      "agccaajg\n",
      "aiozjgcazyelemgjmcotqazkdymjhiwmndiycceyywmbshtkxgdcxvlkxvknzqulxmpbkmgyckwovwiwmkbaaljlgamnmfnyhhsjsoijfbaqxxhpbghcxkvgpwnwo\n",
      "INVALID\n",
      "akwtjxniwmvdnequgckrrojkwqaxqzuzbhslkatipycnquhlwiqiptgyvsifkwbuozpacwanshqhplepdkdllprfwfwdgeztfwwxwfqtroocwgokgcnxdsjvknaaexhiaadgjbinccnhjgniasgtkzwzifikxcwyryghosliqrvfjfxmxvlkxmqurehonsnpknauuhrjidvmweshexhyjkcnmibluewvfdnmj\n",
      "aetzdpzrmqllvyfjetpismcfhapodbdivxcdyqskecadwakteqkklbxiyiqjippbrxbmeugpvyrhfkjwnazkaxlcyrzkqogbxdbjxpyqysprcusfcbdiczebualkorwlmplwnrbihbovgwwenyamwqjhbxhofenpwqavqggkzeoazftfscpuurhitkyfetiynlzwqm\n",
      "akwtjxniwmvdnequgckrrojkwqaxqzuzbhslkatipycnquhlwiqiptgyvsifkwbuozpacwanshqhplepdkdllprfwfwdgeztfwwxwfqtroocwgokgcnxdsjvknaaexhiaadgjbinccnhjgniasgtkzwzifikxcwyryghosliqrvfjfxmxvlkxmqurehonsnpknauuhrjidvmweshexhyjkcn\n",
      "aitergstbxbmjyotxotth\n",
      "ampyjrivcudlyceobsoaqzxbzqcjfkrrapgvvvzurcssmnflbnwuyfejlstqbrrytwcaqfouutoqefjrelnswaszlwjnajdolsxxxrerxocspfvhekawnuaaorowslfirqbyhljtexrkxpgdxltaoqgvwnobezjitdfllhkbldghrfrhmvknoycjostzpsxczrgvgccdnpzncmayqzmkhxraafyidkmqlwvuczybufvduhtkibzwmfithwlaxjlprsjuctpwobyebwjbsvjlhpwpjsalblnzhsigproikectugqldhfjzsfzdbbhfuxxzmpopeanwvgqmkxljbxckasbmdmbqkvurlplbbayudbppbkjkdgumvivyxikdvebmvfqxbgyywjxjuysrlvruyxnmcxxlnbwo\n",
      "aadiqkqgkgxcahzdzbmxskcgpkacmghsuvdqtqswdllqvozmdalygmdydgtglfnbkmtnwsveqjmrxefmxshrrsorvhgxzrapitnklswppnjmzcqkedoldfzogushkmqpybpucawgdwoukasjyrduiuwdugidlkivcygxuuogvlsfiworsoiwnjekkoizpkkyqzzbokjvhgpsswqhzcztijxaytimncffcpttbnjslegdmwdicrsssvtnurpztesckmtawixfqsetz\n",
      "akcjwumfcsqkrpjjpdvfleqqyxevoufnfdqjmxkmtsbqugebihxrsovggmisbdikviapcfiphmjjudpztvgvouprfrvmtvjcglilgihupfcovavzqyypjiuaktm\n",
      "agygdjraetzdpzrmqllvyfjetpismcfhapodbdivxcdyqskecadwakteqkklbxiyiqjippbrxbmeugpvyrhfkjwnazkaxlcyrzkqogbxdbjxpyqysprcusfcbdiczebualkorwlmplwnrbihbovgwwenyamwqjhbxhofenpwqavqggkzeoazftfscp\n",
      "akwtjxniwmvdnequgckrrojkwqaxqzuzbhslkatipycnquhlwiqiptgyvsifkwbuozpa\n",
      "ahzdzbmxskcgpkacmghsuvdqtqswdllqvozmdalygmdydgtglfnbkmtnwsveqjmrxefmxshrrsorvhgxzrapitnklswppnjmzcqkedoldfzogushkmqpybpucawgdwoukasjyrduiuwdugidlkivcygxuuogvlsfiworsoiwnjekkoizpkkyqzzbokjvhgpsswqhzcztijxaytimncffcpttbnjslegdmwdicrsssvtnurpztesckmtawixfqsetzzsvpejnaooctyhnunxrlpkvnrlguucxoisaloxgidkiixoghornmfegskhupzruqsohthghbrzikbswsipvlfjmzgovzlrqimgrmyaamdivkoviteclksblrcpmjbzonvxccmmaakofhmfyuddljhtfguwsrdhfjalfxmdy\n",
      "acwanshqhplepdkdllprfwfwdgeztfwwxwfqtroocwgokgcnxdsjvknaaexhiaadgjbinccnhjgniasgtkzwzifikxcwyryghosliqrvfjfxmxvlkxmqurehonsnpknauuhr\n",
      "aejcomsxkgakguvgqvvfndawlihsawqjpezumwvygzvfeplxeinperrbiewkhfpjysvlybagygdjraetzdpzrmqllvyfjetpismcfhapodbdivxcdyqskecadwakteqkklbxiyiqjippbrxbmeugpvyrhfkjwnazk\n",
      "adcrswcwekznpaeyfmqmmeyafhmpugbxfjmhxywffmphxnheonemtbwwufvbdpghuqrjzaqfzsleodywxslrlfnpdejjqirylpfeydufluxiezggyydhfoiknjorisiwaeaktzcngfczrufqahrtkgmjhfzoqzpnzblywiqblzskpynftqrjznglcbzwjhliqjuqerpcgyoqrecr\n",
      "amwqjhbxhofenpwqavqggkzeoazftfscpuurhitkyfetiynlzwqmtzqzbhsvasabwzegepfzedrkjnyziuakkxercrdrokrtjcyekgfhwmtjjmmkpvewewqysjbplypkfztzgisdbkvlptrfcfylzwaeqbxhqixfagapuhuqqmzjcbipzpiffwo\n",
      "agkqkeavvooorcppkbzgkyhmrutbclcrksphmdvkypvrumuzzkbtioankndpodsytgemehfdymbaytklkoowzoqltjxvctgtkqttargucrzyguyijrpmgwckhnngekadfdcmvrwnryqgmkktcoqvxovtfskstcmhgfffvppqw\n",
      "amlglaqifzsvgxtctgekqdvpptzpwqdogeet\n",
      "ahrtkgmjhfzoqzpnzblywiqblzskpynftqrjznglcbzwj\n"
     ]
    }
   ],
   "source": [
    "w, queries = parse_input('/tmp/test3.txt')\n",
    "answers = findStrings(w, queries)\n",
    "for a in answers:\n",
    "    print(a)\n",
    "# testCode(w)\n"
   ]
  },
  {
   "cell_type": "code",
   "execution_count": 47,
   "metadata": {},
   "outputs": [
    {
     "name": "stdout",
     "output_type": "stream",
     "text": [
      "[((0, 0), <__main__.StringHasher object at 0x108da1610>), ((0, 1), <__main__.StringHasher object at 0x108da1610>), ((0, 2), <__main__.StringHasher object at 0x108da1610>), ((0, 3), <__main__.StringHasher object at 0x108da1610>), ((0, 4), <__main__.StringHasher object at 0x108da1610>), ((0, 5), <__main__.StringHasher object at 0x108da1610>), ((0, 6), <__main__.StringHasher object at 0x108da1610>), ((0, 7), <__main__.StringHasher object at 0x108da1610>), ((0, 8), <__main__.StringHasher object at 0x108da1610>), ((0, 9), <__main__.StringHasher object at 0x108da1610>)]\n"
     ]
    }
   ],
   "source": [
    "string_hasher = StringHasher(s, p, k, powers)\n",
    "\n",
    "string_hasher.hash_all_substrings()\n",
    "print(string_hasher.unique_string_indices[:10])"
   ]
  },
  {
   "cell_type": "code",
   "execution_count": 41,
   "metadata": {},
   "outputs": [
    {
     "name": "stdout",
     "output_type": "stream",
     "text": [
      "foo\n"
     ]
    }
   ],
   "source": [
    "a = [string_hasher, string_hasher]\n",
    "a[0].s = 'foo'\n",
    "print(a[1].s)"
   ]
  },
  {
   "cell_type": "code",
   "execution_count": 54,
   "metadata": {},
   "outputs": [
    {
     "name": "stdout",
     "output_type": "stream",
     "text": [
      "[2, 3]\n",
      "{'g', 'ff', 'e', 'a'}\n"
     ]
    }
   ],
   "source": [
    "d = {'a': 1, 'b': 2, 'c': 3}\n",
    "keys = set(['a', 'e'])\n",
    "print([d[k] for k in d if k not in keys])\n",
    "keys.update(['a', 'g', 'ff'])\n",
    "print(keys)"
   ]
  }
 ],
 "metadata": {
  "kernelspec": {
   "display_name": "Python 3",
   "language": "python",
   "name": "python3"
  },
  "language_info": {
   "codemirror_mode": {
    "name": "ipython",
    "version": 3
   },
   "file_extension": ".py",
   "mimetype": "text/x-python",
   "name": "python",
   "nbconvert_exporter": "python",
   "pygments_lexer": "ipython3",
   "version": "3.8.2"
  },
  "orig_nbformat": 4
 },
 "nbformat": 4,
 "nbformat_minor": 2
}
