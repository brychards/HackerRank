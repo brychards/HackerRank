{
 "cells": [
  {
   "cell_type": "code",
   "execution_count": 90,
   "metadata": {},
   "outputs": [],
   "source": [
    "import collections\n",
    "import copy \n",
    "\n",
    "stored_grundies = {0 : 0, 1 : 1, 2 : 2}\n",
    "\n",
    "def compute_grundy(n):\n",
    "    if n in stored_grundies:\n",
    "        return stored_grundies[n]\n",
    "    \n",
    "    # j is the first index where we delete a pin.\n",
    "    # We'll either delete 1 or 2 pins.\n",
    "    grundies = set()\n",
    "    for j in range(math.ceil(n / 2)):\n",
    "        # Deleting 1.\n",
    "        pins_to_right = n - (j + 1)\n",
    "        pins_to_left = j\n",
    "        right_grundy = compute_grundy(pins_to_right)\n",
    "        left_grundy = compute_grundy(pins_to_left)\n",
    "        xorsum = left_grundy ^ right_grundy\n",
    "        grundies.add(xorsum)\n",
    "\n",
    "        # Deleting 2.\n",
    "        pins_to_right = n - (j + 2)\n",
    "        right_grundy = compute_grundy(pins_to_right)\n",
    "        xorsum = left_grundy ^ right_grundy\n",
    "        grundies.add(xorsum)\n",
    "\n",
    "\n",
    "    for i in range(n):\n",
    "        if i not in grundies:\n",
    "            stored_grundies[n] = i\n",
    "            return i\n",
    "    stored_grundies[n] = n   \n",
    "    return n    \n",
    "\n",
    "\n",
    "def isWinning(n, config):        \n",
    "    # Return WIN or LOSE depending on whether you will win\n",
    "    length_of_line = 0\n",
    "    lines = []\n",
    "    config = config + 'X'  # adding X is just a convenience\n",
    "    for l in config:\n",
    "        if l == 'I':\n",
    "            length_of_line += 1\n",
    "        elif l == 'X':\n",
    "            if length_of_line > 0:\n",
    "                lines.append(length_of_line)\n",
    "                length_of_line = 0\n",
    "            \n",
    "    \n",
    "    all_xod = 0\n",
    "    for line in lines:\n",
    "        all_xod ^= compute_grundy(line)\n",
    "    \n",
    "    if all_xod == 0:\n",
    "        return 'LOSE'\n",
    "    else:\n",
    "        return 'WIN'"
   ]
  },
  {
   "attachments": {},
   "cell_type": "markdown",
   "metadata": {},
   "source": []
  },
  {
   "cell_type": "code",
   "execution_count": 113,
   "metadata": {},
   "outputs": [
    {
     "name": "stdout",
     "output_type": "stream",
     "text": [
      "n =  8  all_xod:  0\n"
     ]
    },
    {
     "data": {
      "text/plain": [
       "'LOSE'"
      ]
     },
     "execution_count": 113,
     "metadata": {},
     "output_type": "execute_result"
    }
   ],
   "source": [
    "arr = \"IIIXIXII\"\n",
    "n = len(arr)\n",
    "isWinning(n, arr)"
   ]
  },
  {
   "cell_type": "code",
   "execution_count": 2,
   "metadata": {},
   "outputs": [],
   "source": [
    "for i in range(10000 ** 2):\n",
    "    n = i\n",
    "    m =  n / 3\n",
    "    j = i + 1\n"
   ]
  }
 ],
 "metadata": {
  "kernelspec": {
   "display_name": "Python 3",
   "language": "python",
   "name": "python3"
  },
  "language_info": {
   "codemirror_mode": {
    "name": "ipython",
    "version": 3
   },
   "file_extension": ".py",
   "mimetype": "text/x-python",
   "name": "python",
   "nbconvert_exporter": "python",
   "pygments_lexer": "ipython3",
   "version": "3.8.2"
  },
  "orig_nbformat": 4
 },
 "nbformat": 4,
 "nbformat_minor": 2
}
