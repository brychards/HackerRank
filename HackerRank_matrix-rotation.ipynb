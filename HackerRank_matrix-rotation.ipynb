{
 "cells": [
  {
   "cell_type": "code",
   "execution_count": 33,
   "metadata": {},
   "outputs": [],
   "source": [
    "def track_to_coordinates(track_position, track_depth, m, n):\n",
    "    track_m = m - 2 * track_depth\n",
    "    track_n = n - 2 * track_depth\n",
    "    track_i = 0\n",
    "    track_j = 0\n",
    "    if track_position <= track_m - 1:\n",
    "        track_i = track_position\n",
    "    elif track_position <= track_m + track_n - 2:\n",
    "        track_i = track_m - 1\n",
    "        track_j = track_position - track_i\n",
    "    elif track_position <= 2 * track_m + track_n - 3:\n",
    "        track_j = track_n - 1\n",
    "        track_i = 2 * track_m + track_n - 3 - track_position\n",
    "    elif track_position < 2 * track_m + 2 * track_n - 4:\n",
    "        track_i = 0\n",
    "        track_j = 2 * track_m + 2 * track_n - 4 - track_position\n",
    "\n",
    "    # print(\"track_i, track_j \", track_i, track_j)\n",
    "    i = track_i + track_depth\n",
    "    j = track_j + track_depth\n",
    "    return (i, j)\n",
    "\n",
    "\n",
    "def rotate_track_position(track_position, track_slots, r):\n",
    "    rotated_track_position = (track_position + r) % track_slots\n",
    "    return rotated_track_position\n",
    "\n",
    "def coordinates_to_track(i, j, m, n):\n",
    "    vertical_depth = min(i, m - 1 - i)\n",
    "    horizontal_depth = min(j, n - 1 - j)\n",
    "    track_depth = min(vertical_depth, horizontal_depth)\n",
    "    track_m = m - 2 * track_depth\n",
    "    track_n = n - 2 * track_depth\n",
    "    track_i = i - track_depth\n",
    "    track_j = j - track_depth\n",
    "    track_slots = 2 * track_m + 2 * track_n - 4\n",
    "    track_position = 0\n",
    "    if track_j == 0:\n",
    "        track_position = track_i\n",
    "    elif track_i == track_m - 1:\n",
    "        track_position = (track_m - 1) + track_j\n",
    "    elif track_j == track_n - 1:\n",
    "        track_position = (track_m + track_n - 2) + (track_m - 1 - track_i)\n",
    "    elif track_i == 0:\n",
    "        track_position = (2 * track_m + track_n - 3) + (track_n - 1 - track_j)\n",
    "    return (track_position, track_slots, track_depth)\n",
    "\n",
    "\n",
    "\n",
    "def matrixRotation(matrix, r):\n",
    "    m = len(matrix)\n",
    "    n = len(matrix[0])\n",
    "    rotated_matrix = [[0 for a in range(n)] for b in range(m)]\n",
    "    for i in range(m):\n",
    "        for j in range(n):\n",
    "            track_position, track_slots, track_depth = coordinates_to_track(i, j, m, n)\n",
    "            rotated_track_position = rotate_track_position(track_position, track_slots, r)\n",
    "            rotated_i, rotated_j = track_to_coordinates(rotated_track_position, track_depth, m, n)\n",
    "            rotated_matrix[rotated_i][rotated_j] = matrix[i][j]\n",
    "    \n",
    "    for i in range(m):\n",
    "        row_i = map(str, rotated_matrix[i])\n",
    "        print(\" \".join(row_i))\n",
    "            \n",
    "\n"
   ]
  },
  {
   "cell_type": "code",
   "execution_count": 18,
   "metadata": {},
   "outputs": [
    {
     "name": "stdout",
     "output_type": "stream",
     "text": [
      "position:  10\n",
      "slots:  22\n",
      "depth:  0\n",
      "track_i, track_j  5 5\n",
      "i', j'  5 5\n"
     ]
    }
   ],
   "source": [
    "m = 6\n",
    "n = 7\n",
    "i = 5\n",
    "j = 5\n",
    "\n",
    "position, slots, depth = coordinates_to_track(i, j, m ,n )\n",
    "print(\"position: \", position)\n",
    "print(\"slots: \", slots)\n",
    "print(\"depth: \", depth)\n",
    "\n",
    "i_, j_ = track_to_coordinates(position, depth, m, n)\n",
    "print(\"i', j' \", i_, j_)\n"
   ]
  },
  {
   "cell_type": "code",
   "execution_count": 34,
   "metadata": {},
   "outputs": [
    {
     "name": "stdout",
     "output_type": "stream",
     "text": [
      "1 2 3 4\n",
      "5 11 15 8\n",
      "9 7 14 12\n",
      "13 6 10 16\n",
      "17 18 19 20\n"
     ]
    }
   ],
   "source": [
    "matrix = [[1, 2, 3, 4], [5, 6, 7, 8], [9, 10, 11, 12], [13, 14, 15, 16], [17, 18, 19, 20]]\n",
    "\n",
    "matrix_ = matrixRotation(matrix, 14)"
   ]
  }
 ],
 "metadata": {
  "kernelspec": {
   "display_name": "Python 3",
   "language": "python",
   "name": "python3"
  },
  "language_info": {
   "codemirror_mode": {
    "name": "ipython",
    "version": 3
   },
   "file_extension": ".py",
   "mimetype": "text/x-python",
   "name": "python",
   "nbconvert_exporter": "python",
   "pygments_lexer": "ipython3",
   "version": "3.8.2"
  },
  "orig_nbformat": 4
 },
 "nbformat": 4,
 "nbformat_minor": 2
}
