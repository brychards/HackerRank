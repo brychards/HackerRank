{
 "cells": [
  {
   "cell_type": "code",
   "execution_count": 10,
   "metadata": {},
   "outputs": [],
   "source": [
    "import heapq \n",
    "\n",
    "def candies(n, arr):\n",
    "    # Write your code here\n",
    "    min_heap = [(val, i) for i, val in enumerate(arr)]\n",
    "    heapq.heapify(min_heap)\n",
    "    candy_assignments = [0 for i in range(n)]\n",
    "    while min_heap:\n",
    "\n",
    "        (val, i) = heapq.heappop(min_heap)\n",
    "        print(\"val, index: \", val, i)\n",
    "        left_bound = 0\n",
    "        right_bound = 0\n",
    "        if i > 0:\n",
    "            left_bound = 0 if arr[i] <= arr[i - 1] else candy_assignments[i - 1]\n",
    "        if i < n - 1:\n",
    "            right_bound = 0 if arr[i] <= arr[i + 1] else candy_assignments[i + 1]\n",
    "        print(\"left bound, right bound: \", left_bound, right_bound)\n",
    "        assignment = max(left_bound, right_bound) + 1\n",
    "        candy_assignments[i] = assignment\n",
    "\n",
    "        print(\"candy assignments: \", candy_assignments)\n",
    "    print(candy_assignments)\n",
    "    return sum(candy_assignments)"
   ]
  },
  {
   "cell_type": "code",
   "execution_count": 11,
   "metadata": {},
   "outputs": [
    {
     "name": "stdout",
     "output_type": "stream",
     "text": [
      "val, index:  1 0\n",
      "left bound, right bound:  0 0\n",
      "candy assignments:  [1, 0, 0]\n",
      "val, index:  2 1\n",
      "left bound, right bound:  1 0\n",
      "candy assignments:  [1, 2, 0]\n",
      "val, index:  2 2\n",
      "left bound, right bound:  0 0\n",
      "candy assignments:  [1, 2, 1]\n",
      "[1, 2, 1]\n"
     ]
    },
    {
     "data": {
      "text/plain": [
       "4"
      ]
     },
     "execution_count": 11,
     "metadata": {},
     "output_type": "execute_result"
    }
   ],
   "source": [
    "arr = [1, 2, 2]\n",
    "candies(len(arr), arr)"
   ]
  },
  {
   "cell_type": "code",
   "execution_count": 29,
   "metadata": {},
   "outputs": [
    {
     "ename": "AttributeError",
     "evalue": "'tuple' object has no attribute 'append'",
     "output_type": "error",
     "traceback": [
      "\u001b[0;31m---------------------------------------------------------------------------\u001b[0m",
      "\u001b[0;31mAttributeError\u001b[0m                            Traceback (most recent call last)",
      "Cell \u001b[0;32mIn[29], line 3\u001b[0m\n\u001b[1;32m      1\u001b[0m a \u001b[39m=\u001b[39m [ \u001b[39m1\u001b[39m, \u001b[39m2\u001b[39m, \u001b[39m3\u001b[39m]\n\u001b[1;32m      2\u001b[0m b \u001b[39m=\u001b[39m \u001b[39mtuple\u001b[39m(a)\n\u001b[0;32m----> 3\u001b[0m b\u001b[39m.\u001b[39;49mappend(\u001b[39m3\u001b[39m)\n\u001b[1;32m      4\u001b[0m \u001b[39mprint\u001b[39m(a)\n",
      "\u001b[0;31mAttributeError\u001b[0m: 'tuple' object has no attribute 'append'"
     ]
    }
   ],
   "source": [
    "A = [ 2, 3, 4]\n",
    "prod = "
   ]
  }
 ],
 "metadata": {
  "kernelspec": {
   "display_name": "Python 3",
   "language": "python",
   "name": "python3"
  },
  "language_info": {
   "codemirror_mode": {
    "name": "ipython",
    "version": 3
   },
   "file_extension": ".py",
   "mimetype": "text/x-python",
   "name": "python",
   "nbconvert_exporter": "python",
   "pygments_lexer": "ipython3",
   "version": "3.8.2"
  },
  "orig_nbformat": 4
 },
 "nbformat": 4,
 "nbformat_minor": 2
}
